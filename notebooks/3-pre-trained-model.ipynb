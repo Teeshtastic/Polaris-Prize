{
 "cells": [
  {
   "cell_type": "code",
   "execution_count": 8,
   "metadata": {},
   "outputs": [
    {
     "name": "stdout",
     "output_type": "stream",
     "text": [
      "Using Apple Silicon (MPS)\n",
      "Train size: 160, Val size: 40\n",
      "Number of classes: 6\n"
     ]
    },
    {
     "name": "stderr",
     "output_type": "stream",
     "text": [
      "Some weights of XLMRobertaForSequenceClassification were not initialized from the model checkpoint at xlm-roberta-base and are newly initialized: ['classifier.dense.bias', 'classifier.dense.weight', 'classifier.out_proj.bias', 'classifier.out_proj.weight']\n",
      "You should probably TRAIN this model on a down-stream task to be able to use it for predictions and inference.\n"
     ]
    },
    {
     "name": "stdout",
     "output_type": "stream",
     "text": [
      "Sample input tensor shape: torch.Size([512])\n",
      "Sample original text: Album: ALPHA | Artist: Charlotte Day Wilson | Genre: R&B | Description: Contemporary R&B | Context: ...\n",
      "Sample label index: 3\n",
      "Model and datasets are ready for training\n"
     ]
    }
   ],
   "source": [
    "# Model Setup\n",
    "import torch\n",
    "import numpy as np\n",
    "from torch.utils.data import Dataset\n",
    "from transformers import AutoTokenizer, AutoModelForSequenceClassification\n",
    "\n",
    "\n",
    "# Device Check\n",
    "if torch.backends.mps.is_available():\n",
    "    device = torch.device(\"mps\")\n",
    "    print(\"Using Apple Silicon (MPS)\")\n",
    "elif torch.cuda.is_available():\n",
    "    device = torch.device(\"cuda\")\n",
    "    print(f\"Using GPU: {torch.cuda.get_device_name(0)}\")\n",
    "else:\n",
    "    device = torch.device(\"cpu\")\n",
    "    print(\"Using CPU (training will be slower)\")\n",
    "\n",
    "# Custom Dataset Class\n",
    "class MusicDataset(Dataset):\n",
    "    def __init__(self, texts, labels, tokenizer):\n",
    "        self.texts = texts\n",
    "        self.labels = labels\n",
    "        self.tokenizer = tokenizer\n",
    "    \n",
    "    def __len__(self):\n",
    "        return len(self.texts)\n",
    "    \n",
    "    def __getitem__(self, idx):\n",
    "        text = str(self.texts[idx])\n",
    "        label = self.labels[idx]\n",
    "\n",
    "        tokens = self.tokenizer(\n",
    "            text,\n",
    "            truncation=True,\n",
    "            padding='max_length',\n",
    "            max_length=512,\n",
    "            return_tensors='pt'\n",
    "        )\n",
    "        \n",
    "        return {\n",
    "            'input_ids': tokens['input_ids'].flatten(),\n",
    "            'attention_mask': tokens['attention_mask'].flatten(),\n",
    "            'labels': torch.tensor(label, dtype=torch.long)\n",
    "        }\n",
    "\n",
    "# Load Data and Encoder\n",
    "split_data = np.load('train_val_split.npy', allow_pickle=True).item()\n",
    "X_train = split_data['X_train']\n",
    "X_val = split_data['X_val']\n",
    "y_train = split_data['y_train']\n",
    "y_val = split_data['y_val']\n",
    "\n",
    "label_classes = np.load('label_classes.npy', allow_pickle=True)\n",
    "num_labels = len(label_classes)\n",
    "\n",
    "assert len(X_train) == len(y_train), \"Mismatch in training data\"\n",
    "assert num_labels > 1, \"Only one class detected\"\n",
    "\n",
    "print(f\"Train size: {len(X_train)}, Val size: {len(X_val)}\")\n",
    "print(f\"Number of classes: {num_labels}\")\n",
    "\n",
    "\n",
    "# Load Tokenizer & Model\n",
    "\n",
    "tokenizer = AutoTokenizer.from_pretrained('xlm-roberta-base')\n",
    "model = AutoModelForSequenceClassification.from_pretrained(\n",
    "    'xlm-roberta-base',\n",
    "    num_labels=num_labels\n",
    ")\n",
    "model = model.to(device)\n",
    "\n",
    "# Create Datasets \n",
    "train_dataset = MusicDataset(X_train, y_train, tokenizer)\n",
    "val_dataset = MusicDataset(X_val, y_val, tokenizer)\n",
    "\n",
    "# Quick Test\n",
    "sample = train_dataset[0]\n",
    "print(f\"Sample input tensor shape: {sample['input_ids'].shape}\")\n",
    "print(f\"Sample original text: {X_train[0][:100]}...\")\n",
    "print(f\"Sample label index: {y_train[0]}\")\n",
    "\n",
    "# Save Tokenizer\n",
    "tokenizer.save_pretrained('./tokenizer')\n",
    "print(\"Model and datasets are ready for training\")"
   ]
  },
  {
   "cell_type": "code",
   "execution_count": null,
   "metadata": {},
   "outputs": [],
   "source": []
  }
 ],
 "metadata": {
  "kernelspec": {
   "display_name": "Python 3 (ipykernel)",
   "language": "python",
   "name": "python3"
  },
  "language_info": {
   "codemirror_mode": {
    "name": "ipython",
    "version": 3
   },
   "file_extension": ".py",
   "mimetype": "text/x-python",
   "name": "python",
   "nbconvert_exporter": "python",
   "pygments_lexer": "ipython3",
   "version": "3.10.17"
  }
 },
 "nbformat": 4,
 "nbformat_minor": 4
}
